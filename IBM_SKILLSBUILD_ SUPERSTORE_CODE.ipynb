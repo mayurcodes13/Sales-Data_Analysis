{
  "nbformat": 4,
  "nbformat_minor": 0,
  "metadata": {
    "colab": {
      "provenance": []
    },
    "kernelspec": {
      "name": "python3",
      "display_name": "Python 3"
    },
    "language_info": {
      "name": "python"
    }
  },
  "cells": [
    {
      "cell_type": "code",
      "execution_count": null,
      "metadata": {
        "id": "JNjeQHgNOyLc"
      },
      "outputs": [],
      "source": [
        "import matplotlib.pyplot as plt\n",
        "import pandas as pd\n",
        "import numpy as np\n",
        "import seaborn as sns"
      ]
    },
    {
      "cell_type": "code",
      "source": [
        "df = pd.read_csv(r'/content/Sample - Superstore.csv', encoding='latin1')\n",
        "df"
      ],
      "metadata": {
        "colab": {
          "base_uri": "https://localhost:8080/",
          "height": 1000
        },
        "id": "0vsmXg7VPBQP",
        "outputId": "4ac9e98f-d668-4337-d7d7-c7a1e2be09f9"
      },
      "execution_count": null,
      "outputs": [
        {
          "output_type": "execute_result",
          "data": {
            "text/plain": [
              "      Row ID        Order ID  Order Date   Ship Date       Ship Mode  \\\n",
              "0          1  CA-2016-152156   11/8/2016  11/11/2016    Second Class   \n",
              "1          2  CA-2016-152156   11/8/2016  11/11/2016    Second Class   \n",
              "2          3  CA-2016-138688   6/12/2016   6/16/2016    Second Class   \n",
              "3          4  US-2015-108966  10/11/2015  10/18/2015  Standard Class   \n",
              "4          5  US-2015-108966  10/11/2015  10/18/2015  Standard Class   \n",
              "...      ...             ...         ...         ...             ...   \n",
              "9989    9990  CA-2014-110422   1/21/2014   1/23/2014    Second Class   \n",
              "9990    9991  CA-2017-121258   2/26/2017    3/3/2017  Standard Class   \n",
              "9991    9992  CA-2017-121258   2/26/2017    3/3/2017  Standard Class   \n",
              "9992    9993  CA-2017-121258   2/26/2017    3/3/2017  Standard Class   \n",
              "9993    9994  CA-2017-119914    5/4/2017    5/9/2017    Second Class   \n",
              "\n",
              "     Customer ID     Customer Name    Segment        Country             City  \\\n",
              "0       CG-12520       Claire Gute   Consumer  United States        Henderson   \n",
              "1       CG-12520       Claire Gute   Consumer  United States        Henderson   \n",
              "2       DV-13045   Darrin Van Huff  Corporate  United States      Los Angeles   \n",
              "3       SO-20335    Sean O'Donnell   Consumer  United States  Fort Lauderdale   \n",
              "4       SO-20335    Sean O'Donnell   Consumer  United States  Fort Lauderdale   \n",
              "...          ...               ...        ...            ...              ...   \n",
              "9989    TB-21400  Tom Boeckenhauer   Consumer  United States            Miami   \n",
              "9990    DB-13060       Dave Brooks   Consumer  United States       Costa Mesa   \n",
              "9991    DB-13060       Dave Brooks   Consumer  United States       Costa Mesa   \n",
              "9992    DB-13060       Dave Brooks   Consumer  United States       Costa Mesa   \n",
              "9993    CC-12220      Chris Cortes   Consumer  United States      Westminster   \n",
              "\n",
              "      ... Postal Code  Region       Product ID         Category Sub-Category  \\\n",
              "0     ...       42420   South  FUR-BO-10001798        Furniture    Bookcases   \n",
              "1     ...       42420   South  FUR-CH-10000454        Furniture       Chairs   \n",
              "2     ...       90036    West  OFF-LA-10000240  Office Supplies       Labels   \n",
              "3     ...       33311   South  FUR-TA-10000577        Furniture       Tables   \n",
              "4     ...       33311   South  OFF-ST-10000760  Office Supplies      Storage   \n",
              "...   ...         ...     ...              ...              ...          ...   \n",
              "9989  ...       33180   South  FUR-FU-10001889        Furniture  Furnishings   \n",
              "9990  ...       92627    West  FUR-FU-10000747        Furniture  Furnishings   \n",
              "9991  ...       92627    West  TEC-PH-10003645       Technology       Phones   \n",
              "9992  ...       92627    West  OFF-PA-10004041  Office Supplies        Paper   \n",
              "9993  ...       92683    West  OFF-AP-10002684  Office Supplies   Appliances   \n",
              "\n",
              "                                           Product Name     Sales  Quantity  \\\n",
              "0                     Bush Somerset Collection Bookcase  261.9600         2   \n",
              "1     Hon Deluxe Fabric Upholstered Stacking Chairs,...  731.9400         3   \n",
              "2     Self-Adhesive Address Labels for Typewriters b...   14.6200         2   \n",
              "3         Bretford CR4500 Series Slim Rectangular Table  957.5775         5   \n",
              "4                        Eldon Fold 'N Roll Cart System   22.3680         2   \n",
              "...                                                 ...       ...       ...   \n",
              "9989                             Ultra Door Pull Handle   25.2480         3   \n",
              "9990  Tenex B1-RE Series Chair Mats for Low Pile Car...   91.9600         2   \n",
              "9991                              Aastra 57i VoIP phone  258.5760         2   \n",
              "9992  It's Hot Message Books with Stickers, 2 3/4\" x 5\"   29.6000         4   \n",
              "9993  Acco 7-Outlet Masterpiece Power Center, Wihtou...  243.1600         2   \n",
              "\n",
              "      Discount    Profit  \n",
              "0         0.00   41.9136  \n",
              "1         0.00  219.5820  \n",
              "2         0.00    6.8714  \n",
              "3         0.45 -383.0310  \n",
              "4         0.20    2.5164  \n",
              "...        ...       ...  \n",
              "9989      0.20    4.1028  \n",
              "9990      0.00   15.6332  \n",
              "9991      0.20   19.3932  \n",
              "9992      0.00   13.3200  \n",
              "9993      0.00   72.9480  \n",
              "\n",
              "[9994 rows x 21 columns]"
            ],
            "text/html": [
              "\n",
              "\n",
              "  <div id=\"df-1868b603-a1f1-4236-afad-6f8bc66ba255\">\n",
              "    <div class=\"colab-df-container\">\n",
              "      <div>\n",
              "<style scoped>\n",
              "    .dataframe tbody tr th:only-of-type {\n",
              "        vertical-align: middle;\n",
              "    }\n",
              "\n",
              "    .dataframe tbody tr th {\n",
              "        vertical-align: top;\n",
              "    }\n",
              "\n",
              "    .dataframe thead th {\n",
              "        text-align: right;\n",
              "    }\n",
              "</style>\n",
              "<table border=\"1\" class=\"dataframe\">\n",
              "  <thead>\n",
              "    <tr style=\"text-align: right;\">\n",
              "      <th></th>\n",
              "      <th>Row ID</th>\n",
              "      <th>Order ID</th>\n",
              "      <th>Order Date</th>\n",
              "      <th>Ship Date</th>\n",
              "      <th>Ship Mode</th>\n",
              "      <th>Customer ID</th>\n",
              "      <th>Customer Name</th>\n",
              "      <th>Segment</th>\n",
              "      <th>Country</th>\n",
              "      <th>City</th>\n",
              "      <th>...</th>\n",
              "      <th>Postal Code</th>\n",
              "      <th>Region</th>\n",
              "      <th>Product ID</th>\n",
              "      <th>Category</th>\n",
              "      <th>Sub-Category</th>\n",
              "      <th>Product Name</th>\n",
              "      <th>Sales</th>\n",
              "      <th>Quantity</th>\n",
              "      <th>Discount</th>\n",
              "      <th>Profit</th>\n",
              "    </tr>\n",
              "  </thead>\n",
              "  <tbody>\n",
              "    <tr>\n",
              "      <th>0</th>\n",
              "      <td>1</td>\n",
              "      <td>CA-2016-152156</td>\n",
              "      <td>11/8/2016</td>\n",
              "      <td>11/11/2016</td>\n",
              "      <td>Second Class</td>\n",
              "      <td>CG-12520</td>\n",
              "      <td>Claire Gute</td>\n",
              "      <td>Consumer</td>\n",
              "      <td>United States</td>\n",
              "      <td>Henderson</td>\n",
              "      <td>...</td>\n",
              "      <td>42420</td>\n",
              "      <td>South</td>\n",
              "      <td>FUR-BO-10001798</td>\n",
              "      <td>Furniture</td>\n",
              "      <td>Bookcases</td>\n",
              "      <td>Bush Somerset Collection Bookcase</td>\n",
              "      <td>261.9600</td>\n",
              "      <td>2</td>\n",
              "      <td>0.00</td>\n",
              "      <td>41.9136</td>\n",
              "    </tr>\n",
              "    <tr>\n",
              "      <th>1</th>\n",
              "      <td>2</td>\n",
              "      <td>CA-2016-152156</td>\n",
              "      <td>11/8/2016</td>\n",
              "      <td>11/11/2016</td>\n",
              "      <td>Second Class</td>\n",
              "      <td>CG-12520</td>\n",
              "      <td>Claire Gute</td>\n",
              "      <td>Consumer</td>\n",
              "      <td>United States</td>\n",
              "      <td>Henderson</td>\n",
              "      <td>...</td>\n",
              "      <td>42420</td>\n",
              "      <td>South</td>\n",
              "      <td>FUR-CH-10000454</td>\n",
              "      <td>Furniture</td>\n",
              "      <td>Chairs</td>\n",
              "      <td>Hon Deluxe Fabric Upholstered Stacking Chairs,...</td>\n",
              "      <td>731.9400</td>\n",
              "      <td>3</td>\n",
              "      <td>0.00</td>\n",
              "      <td>219.5820</td>\n",
              "    </tr>\n",
              "    <tr>\n",
              "      <th>2</th>\n",
              "      <td>3</td>\n",
              "      <td>CA-2016-138688</td>\n",
              "      <td>6/12/2016</td>\n",
              "      <td>6/16/2016</td>\n",
              "      <td>Second Class</td>\n",
              "      <td>DV-13045</td>\n",
              "      <td>Darrin Van Huff</td>\n",
              "      <td>Corporate</td>\n",
              "      <td>United States</td>\n",
              "      <td>Los Angeles</td>\n",
              "      <td>...</td>\n",
              "      <td>90036</td>\n",
              "      <td>West</td>\n",
              "      <td>OFF-LA-10000240</td>\n",
              "      <td>Office Supplies</td>\n",
              "      <td>Labels</td>\n",
              "      <td>Self-Adhesive Address Labels for Typewriters b...</td>\n",
              "      <td>14.6200</td>\n",
              "      <td>2</td>\n",
              "      <td>0.00</td>\n",
              "      <td>6.8714</td>\n",
              "    </tr>\n",
              "    <tr>\n",
              "      <th>3</th>\n",
              "      <td>4</td>\n",
              "      <td>US-2015-108966</td>\n",
              "      <td>10/11/2015</td>\n",
              "      <td>10/18/2015</td>\n",
              "      <td>Standard Class</td>\n",
              "      <td>SO-20335</td>\n",
              "      <td>Sean O'Donnell</td>\n",
              "      <td>Consumer</td>\n",
              "      <td>United States</td>\n",
              "      <td>Fort Lauderdale</td>\n",
              "      <td>...</td>\n",
              "      <td>33311</td>\n",
              "      <td>South</td>\n",
              "      <td>FUR-TA-10000577</td>\n",
              "      <td>Furniture</td>\n",
              "      <td>Tables</td>\n",
              "      <td>Bretford CR4500 Series Slim Rectangular Table</td>\n",
              "      <td>957.5775</td>\n",
              "      <td>5</td>\n",
              "      <td>0.45</td>\n",
              "      <td>-383.0310</td>\n",
              "    </tr>\n",
              "    <tr>\n",
              "      <th>4</th>\n",
              "      <td>5</td>\n",
              "      <td>US-2015-108966</td>\n",
              "      <td>10/11/2015</td>\n",
              "      <td>10/18/2015</td>\n",
              "      <td>Standard Class</td>\n",
              "      <td>SO-20335</td>\n",
              "      <td>Sean O'Donnell</td>\n",
              "      <td>Consumer</td>\n",
              "      <td>United States</td>\n",
              "      <td>Fort Lauderdale</td>\n",
              "      <td>...</td>\n",
              "      <td>33311</td>\n",
              "      <td>South</td>\n",
              "      <td>OFF-ST-10000760</td>\n",
              "      <td>Office Supplies</td>\n",
              "      <td>Storage</td>\n",
              "      <td>Eldon Fold 'N Roll Cart System</td>\n",
              "      <td>22.3680</td>\n",
              "      <td>2</td>\n",
              "      <td>0.20</td>\n",
              "      <td>2.5164</td>\n",
              "    </tr>\n",
              "    <tr>\n",
              "      <th>...</th>\n",
              "      <td>...</td>\n",
              "      <td>...</td>\n",
              "      <td>...</td>\n",
              "      <td>...</td>\n",
              "      <td>...</td>\n",
              "      <td>...</td>\n",
              "      <td>...</td>\n",
              "      <td>...</td>\n",
              "      <td>...</td>\n",
              "      <td>...</td>\n",
              "      <td>...</td>\n",
              "      <td>...</td>\n",
              "      <td>...</td>\n",
              "      <td>...</td>\n",
              "      <td>...</td>\n",
              "      <td>...</td>\n",
              "      <td>...</td>\n",
              "      <td>...</td>\n",
              "      <td>...</td>\n",
              "      <td>...</td>\n",
              "      <td>...</td>\n",
              "    </tr>\n",
              "    <tr>\n",
              "      <th>9989</th>\n",
              "      <td>9990</td>\n",
              "      <td>CA-2014-110422</td>\n",
              "      <td>1/21/2014</td>\n",
              "      <td>1/23/2014</td>\n",
              "      <td>Second Class</td>\n",
              "      <td>TB-21400</td>\n",
              "      <td>Tom Boeckenhauer</td>\n",
              "      <td>Consumer</td>\n",
              "      <td>United States</td>\n",
              "      <td>Miami</td>\n",
              "      <td>...</td>\n",
              "      <td>33180</td>\n",
              "      <td>South</td>\n",
              "      <td>FUR-FU-10001889</td>\n",
              "      <td>Furniture</td>\n",
              "      <td>Furnishings</td>\n",
              "      <td>Ultra Door Pull Handle</td>\n",
              "      <td>25.2480</td>\n",
              "      <td>3</td>\n",
              "      <td>0.20</td>\n",
              "      <td>4.1028</td>\n",
              "    </tr>\n",
              "    <tr>\n",
              "      <th>9990</th>\n",
              "      <td>9991</td>\n",
              "      <td>CA-2017-121258</td>\n",
              "      <td>2/26/2017</td>\n",
              "      <td>3/3/2017</td>\n",
              "      <td>Standard Class</td>\n",
              "      <td>DB-13060</td>\n",
              "      <td>Dave Brooks</td>\n",
              "      <td>Consumer</td>\n",
              "      <td>United States</td>\n",
              "      <td>Costa Mesa</td>\n",
              "      <td>...</td>\n",
              "      <td>92627</td>\n",
              "      <td>West</td>\n",
              "      <td>FUR-FU-10000747</td>\n",
              "      <td>Furniture</td>\n",
              "      <td>Furnishings</td>\n",
              "      <td>Tenex B1-RE Series Chair Mats for Low Pile Car...</td>\n",
              "      <td>91.9600</td>\n",
              "      <td>2</td>\n",
              "      <td>0.00</td>\n",
              "      <td>15.6332</td>\n",
              "    </tr>\n",
              "    <tr>\n",
              "      <th>9991</th>\n",
              "      <td>9992</td>\n",
              "      <td>CA-2017-121258</td>\n",
              "      <td>2/26/2017</td>\n",
              "      <td>3/3/2017</td>\n",
              "      <td>Standard Class</td>\n",
              "      <td>DB-13060</td>\n",
              "      <td>Dave Brooks</td>\n",
              "      <td>Consumer</td>\n",
              "      <td>United States</td>\n",
              "      <td>Costa Mesa</td>\n",
              "      <td>...</td>\n",
              "      <td>92627</td>\n",
              "      <td>West</td>\n",
              "      <td>TEC-PH-10003645</td>\n",
              "      <td>Technology</td>\n",
              "      <td>Phones</td>\n",
              "      <td>Aastra 57i VoIP phone</td>\n",
              "      <td>258.5760</td>\n",
              "      <td>2</td>\n",
              "      <td>0.20</td>\n",
              "      <td>19.3932</td>\n",
              "    </tr>\n",
              "    <tr>\n",
              "      <th>9992</th>\n",
              "      <td>9993</td>\n",
              "      <td>CA-2017-121258</td>\n",
              "      <td>2/26/2017</td>\n",
              "      <td>3/3/2017</td>\n",
              "      <td>Standard Class</td>\n",
              "      <td>DB-13060</td>\n",
              "      <td>Dave Brooks</td>\n",
              "      <td>Consumer</td>\n",
              "      <td>United States</td>\n",
              "      <td>Costa Mesa</td>\n",
              "      <td>...</td>\n",
              "      <td>92627</td>\n",
              "      <td>West</td>\n",
              "      <td>OFF-PA-10004041</td>\n",
              "      <td>Office Supplies</td>\n",
              "      <td>Paper</td>\n",
              "      <td>It's Hot Message Books with Stickers, 2 3/4\" x 5\"</td>\n",
              "      <td>29.6000</td>\n",
              "      <td>4</td>\n",
              "      <td>0.00</td>\n",
              "      <td>13.3200</td>\n",
              "    </tr>\n",
              "    <tr>\n",
              "      <th>9993</th>\n",
              "      <td>9994</td>\n",
              "      <td>CA-2017-119914</td>\n",
              "      <td>5/4/2017</td>\n",
              "      <td>5/9/2017</td>\n",
              "      <td>Second Class</td>\n",
              "      <td>CC-12220</td>\n",
              "      <td>Chris Cortes</td>\n",
              "      <td>Consumer</td>\n",
              "      <td>United States</td>\n",
              "      <td>Westminster</td>\n",
              "      <td>...</td>\n",
              "      <td>92683</td>\n",
              "      <td>West</td>\n",
              "      <td>OFF-AP-10002684</td>\n",
              "      <td>Office Supplies</td>\n",
              "      <td>Appliances</td>\n",
              "      <td>Acco 7-Outlet Masterpiece Power Center, Wihtou...</td>\n",
              "      <td>243.1600</td>\n",
              "      <td>2</td>\n",
              "      <td>0.00</td>\n",
              "      <td>72.9480</td>\n",
              "    </tr>\n",
              "  </tbody>\n",
              "</table>\n",
              "<p>9994 rows × 21 columns</p>\n",
              "</div>\n",
              "      <button class=\"colab-df-convert\" onclick=\"convertToInteractive('df-1868b603-a1f1-4236-afad-6f8bc66ba255')\"\n",
              "              title=\"Convert this dataframe to an interactive table.\"\n",
              "              style=\"display:none;\">\n",
              "\n",
              "  <svg xmlns=\"http://www.w3.org/2000/svg\" height=\"24px\"viewBox=\"0 0 24 24\"\n",
              "       width=\"24px\">\n",
              "    <path d=\"M0 0h24v24H0V0z\" fill=\"none\"/>\n",
              "    <path d=\"M18.56 5.44l.94 2.06.94-2.06 2.06-.94-2.06-.94-.94-2.06-.94 2.06-2.06.94zm-11 1L8.5 8.5l.94-2.06 2.06-.94-2.06-.94L8.5 2.5l-.94 2.06-2.06.94zm10 10l.94 2.06.94-2.06 2.06-.94-2.06-.94-.94-2.06-.94 2.06-2.06.94z\"/><path d=\"M17.41 7.96l-1.37-1.37c-.4-.4-.92-.59-1.43-.59-.52 0-1.04.2-1.43.59L10.3 9.45l-7.72 7.72c-.78.78-.78 2.05 0 2.83L4 21.41c.39.39.9.59 1.41.59.51 0 1.02-.2 1.41-.59l7.78-7.78 2.81-2.81c.8-.78.8-2.07 0-2.86zM5.41 20L4 18.59l7.72-7.72 1.47 1.35L5.41 20z\"/>\n",
              "  </svg>\n",
              "      </button>\n",
              "\n",
              "\n",
              "\n",
              "    <div id=\"df-82a30467-cfb4-49ee-8a37-50263a924c8a\">\n",
              "      <button class=\"colab-df-quickchart\" onclick=\"quickchart('df-82a30467-cfb4-49ee-8a37-50263a924c8a')\"\n",
              "              title=\"Suggest charts.\"\n",
              "              style=\"display:none;\">\n",
              "\n",
              "<svg xmlns=\"http://www.w3.org/2000/svg\" height=\"24px\"viewBox=\"0 0 24 24\"\n",
              "     width=\"24px\">\n",
              "    <g>\n",
              "        <path d=\"M19 3H5c-1.1 0-2 .9-2 2v14c0 1.1.9 2 2 2h14c1.1 0 2-.9 2-2V5c0-1.1-.9-2-2-2zM9 17H7v-7h2v7zm4 0h-2V7h2v10zm4 0h-2v-4h2v4z\"/>\n",
              "    </g>\n",
              "</svg>\n",
              "      </button>\n",
              "    </div>\n",
              "\n",
              "<style>\n",
              "  .colab-df-quickchart {\n",
              "    background-color: #E8F0FE;\n",
              "    border: none;\n",
              "    border-radius: 50%;\n",
              "    cursor: pointer;\n",
              "    display: none;\n",
              "    fill: #1967D2;\n",
              "    height: 32px;\n",
              "    padding: 0 0 0 0;\n",
              "    width: 32px;\n",
              "  }\n",
              "\n",
              "  .colab-df-quickchart:hover {\n",
              "    background-color: #E2EBFA;\n",
              "    box-shadow: 0px 1px 2px rgba(60, 64, 67, 0.3), 0px 1px 3px 1px rgba(60, 64, 67, 0.15);\n",
              "    fill: #174EA6;\n",
              "  }\n",
              "\n",
              "  [theme=dark] .colab-df-quickchart {\n",
              "    background-color: #3B4455;\n",
              "    fill: #D2E3FC;\n",
              "  }\n",
              "\n",
              "  [theme=dark] .colab-df-quickchart:hover {\n",
              "    background-color: #434B5C;\n",
              "    box-shadow: 0px 1px 3px 1px rgba(0, 0, 0, 0.15);\n",
              "    filter: drop-shadow(0px 1px 2px rgba(0, 0, 0, 0.3));\n",
              "    fill: #FFFFFF;\n",
              "  }\n",
              "</style>\n",
              "\n",
              "    <script>\n",
              "      async function quickchart(key) {\n",
              "        const containerElement = document.querySelector('#' + key);\n",
              "        const charts = await google.colab.kernel.invokeFunction(\n",
              "            'suggestCharts', [key], {});\n",
              "      }\n",
              "    </script>\n",
              "\n",
              "      <script>\n",
              "\n",
              "function displayQuickchartButton(domScope) {\n",
              "  let quickchartButtonEl =\n",
              "    domScope.querySelector('#df-82a30467-cfb4-49ee-8a37-50263a924c8a button.colab-df-quickchart');\n",
              "  quickchartButtonEl.style.display =\n",
              "    google.colab.kernel.accessAllowed ? 'block' : 'none';\n",
              "}\n",
              "\n",
              "        displayQuickchartButton(document);\n",
              "      </script>\n",
              "      <style>\n",
              "    .colab-df-container {\n",
              "      display:flex;\n",
              "      flex-wrap:wrap;\n",
              "      gap: 12px;\n",
              "    }\n",
              "\n",
              "    .colab-df-convert {\n",
              "      background-color: #E8F0FE;\n",
              "      border: none;\n",
              "      border-radius: 50%;\n",
              "      cursor: pointer;\n",
              "      display: none;\n",
              "      fill: #1967D2;\n",
              "      height: 32px;\n",
              "      padding: 0 0 0 0;\n",
              "      width: 32px;\n",
              "    }\n",
              "\n",
              "    .colab-df-convert:hover {\n",
              "      background-color: #E2EBFA;\n",
              "      box-shadow: 0px 1px 2px rgba(60, 64, 67, 0.3), 0px 1px 3px 1px rgba(60, 64, 67, 0.15);\n",
              "      fill: #174EA6;\n",
              "    }\n",
              "\n",
              "    [theme=dark] .colab-df-convert {\n",
              "      background-color: #3B4455;\n",
              "      fill: #D2E3FC;\n",
              "    }\n",
              "\n",
              "    [theme=dark] .colab-df-convert:hover {\n",
              "      background-color: #434B5C;\n",
              "      box-shadow: 0px 1px 3px 1px rgba(0, 0, 0, 0.15);\n",
              "      filter: drop-shadow(0px 1px 2px rgba(0, 0, 0, 0.3));\n",
              "      fill: #FFFFFF;\n",
              "    }\n",
              "  </style>\n",
              "\n",
              "      <script>\n",
              "        const buttonEl =\n",
              "          document.querySelector('#df-1868b603-a1f1-4236-afad-6f8bc66ba255 button.colab-df-convert');\n",
              "        buttonEl.style.display =\n",
              "          google.colab.kernel.accessAllowed ? 'block' : 'none';\n",
              "\n",
              "        async function convertToInteractive(key) {\n",
              "          const element = document.querySelector('#df-1868b603-a1f1-4236-afad-6f8bc66ba255');\n",
              "          const dataTable =\n",
              "            await google.colab.kernel.invokeFunction('convertToInteractive',\n",
              "                                                     [key], {});\n",
              "          if (!dataTable) return;\n",
              "\n",
              "          const docLinkHtml = 'Like what you see? Visit the ' +\n",
              "            '<a target=\"_blank\" href=https://colab.research.google.com/notebooks/data_table.ipynb>data table notebook</a>'\n",
              "            + ' to learn more about interactive tables.';\n",
              "          element.innerHTML = '';\n",
              "          dataTable['output_type'] = 'display_data';\n",
              "          await google.colab.output.renderOutput(dataTable, element);\n",
              "          const docLink = document.createElement('div');\n",
              "          docLink.innerHTML = docLinkHtml;\n",
              "          element.appendChild(docLink);\n",
              "        }\n",
              "      </script>\n",
              "    </div>\n",
              "  </div>\n"
            ]
          },
          "metadata": {},
          "execution_count": 10
        }
      ]
    },
    {
      "cell_type": "code",
      "source": [
        "df.info()"
      ],
      "metadata": {
        "colab": {
          "base_uri": "https://localhost:8080/"
        },
        "id": "5nfE4pxoPncr",
        "outputId": "a7c22114-529d-47a3-cffd-711a4ef9dc7c"
      },
      "execution_count": null,
      "outputs": [
        {
          "output_type": "stream",
          "name": "stdout",
          "text": [
            "<class 'pandas.core.frame.DataFrame'>\n",
            "RangeIndex: 9994 entries, 0 to 9993\n",
            "Data columns (total 21 columns):\n",
            " #   Column         Non-Null Count  Dtype  \n",
            "---  ------         --------------  -----  \n",
            " 0   Row ID         9994 non-null   int64  \n",
            " 1   Order ID       9994 non-null   object \n",
            " 2   Order Date     9994 non-null   object \n",
            " 3   Ship Date      9994 non-null   object \n",
            " 4   Ship Mode      9994 non-null   object \n",
            " 5   Customer ID    9994 non-null   object \n",
            " 6   Customer Name  9994 non-null   object \n",
            " 7   Segment        9994 non-null   object \n",
            " 8   Country        9994 non-null   object \n",
            " 9   City           9994 non-null   object \n",
            " 10  State          9994 non-null   object \n",
            " 11  Postal Code    9994 non-null   int64  \n",
            " 12  Region         9994 non-null   object \n",
            " 13  Product ID     9994 non-null   object \n",
            " 14  Category       9994 non-null   object \n",
            " 15  Sub-Category   9994 non-null   object \n",
            " 16  Product Name   9994 non-null   object \n",
            " 17  Sales          9994 non-null   float64\n",
            " 18  Quantity       9994 non-null   int64  \n",
            " 19  Discount       9994 non-null   float64\n",
            " 20  Profit         9994 non-null   float64\n",
            "dtypes: float64(3), int64(3), object(15)\n",
            "memory usage: 1.6+ MB\n"
          ]
        }
      ]
    },
    {
      "cell_type": "code",
      "source": [
        "df.shape"
      ],
      "metadata": {
        "colab": {
          "base_uri": "https://localhost:8080/"
        },
        "id": "vofrDf0yQG8F",
        "outputId": "8459dfb1-521f-4b77-c3c0-cb9b7c98d992"
      },
      "execution_count": null,
      "outputs": [
        {
          "output_type": "execute_result",
          "data": {
            "text/plain": [
              "(9994, 21)"
            ]
          },
          "metadata": {},
          "execution_count": 13
        }
      ]
    },
    {
      "cell_type": "code",
      "source": [
        "df.describe()"
      ],
      "metadata": {
        "colab": {
          "base_uri": "https://localhost:8080/",
          "height": 300
        },
        "id": "anxqjkmFRh-0",
        "outputId": "2f89af68-2c67-4889-b462-41670e3b0baf"
      },
      "execution_count": null,
      "outputs": [
        {
          "output_type": "execute_result",
          "data": {
            "text/plain": [
              "            Row ID   Postal Code         Sales     Quantity     Discount  \\\n",
              "count  9994.000000   9994.000000   9994.000000  9994.000000  9994.000000   \n",
              "mean   4997.500000  55190.379428    229.858001     3.789574     0.156203   \n",
              "std    2885.163629  32063.693350    623.245101     2.225110     0.206452   \n",
              "min       1.000000   1040.000000      0.444000     1.000000     0.000000   \n",
              "25%    2499.250000  23223.000000     17.280000     2.000000     0.000000   \n",
              "50%    4997.500000  56430.500000     54.490000     3.000000     0.200000   \n",
              "75%    7495.750000  90008.000000    209.940000     5.000000     0.200000   \n",
              "max    9994.000000  99301.000000  22638.480000    14.000000     0.800000   \n",
              "\n",
              "            Profit  \n",
              "count  9994.000000  \n",
              "mean     28.656896  \n",
              "std     234.260108  \n",
              "min   -6599.978000  \n",
              "25%       1.728750  \n",
              "50%       8.666500  \n",
              "75%      29.364000  \n",
              "max    8399.976000  "
            ],
            "text/html": [
              "\n",
              "\n",
              "  <div id=\"df-ec0a0c5f-dc16-4920-89c4-26cec54ec47c\">\n",
              "    <div class=\"colab-df-container\">\n",
              "      <div>\n",
              "<style scoped>\n",
              "    .dataframe tbody tr th:only-of-type {\n",
              "        vertical-align: middle;\n",
              "    }\n",
              "\n",
              "    .dataframe tbody tr th {\n",
              "        vertical-align: top;\n",
              "    }\n",
              "\n",
              "    .dataframe thead th {\n",
              "        text-align: right;\n",
              "    }\n",
              "</style>\n",
              "<table border=\"1\" class=\"dataframe\">\n",
              "  <thead>\n",
              "    <tr style=\"text-align: right;\">\n",
              "      <th></th>\n",
              "      <th>Row ID</th>\n",
              "      <th>Postal Code</th>\n",
              "      <th>Sales</th>\n",
              "      <th>Quantity</th>\n",
              "      <th>Discount</th>\n",
              "      <th>Profit</th>\n",
              "    </tr>\n",
              "  </thead>\n",
              "  <tbody>\n",
              "    <tr>\n",
              "      <th>count</th>\n",
              "      <td>9994.000000</td>\n",
              "      <td>9994.000000</td>\n",
              "      <td>9994.000000</td>\n",
              "      <td>9994.000000</td>\n",
              "      <td>9994.000000</td>\n",
              "      <td>9994.000000</td>\n",
              "    </tr>\n",
              "    <tr>\n",
              "      <th>mean</th>\n",
              "      <td>4997.500000</td>\n",
              "      <td>55190.379428</td>\n",
              "      <td>229.858001</td>\n",
              "      <td>3.789574</td>\n",
              "      <td>0.156203</td>\n",
              "      <td>28.656896</td>\n",
              "    </tr>\n",
              "    <tr>\n",
              "      <th>std</th>\n",
              "      <td>2885.163629</td>\n",
              "      <td>32063.693350</td>\n",
              "      <td>623.245101</td>\n",
              "      <td>2.225110</td>\n",
              "      <td>0.206452</td>\n",
              "      <td>234.260108</td>\n",
              "    </tr>\n",
              "    <tr>\n",
              "      <th>min</th>\n",
              "      <td>1.000000</td>\n",
              "      <td>1040.000000</td>\n",
              "      <td>0.444000</td>\n",
              "      <td>1.000000</td>\n",
              "      <td>0.000000</td>\n",
              "      <td>-6599.978000</td>\n",
              "    </tr>\n",
              "    <tr>\n",
              "      <th>25%</th>\n",
              "      <td>2499.250000</td>\n",
              "      <td>23223.000000</td>\n",
              "      <td>17.280000</td>\n",
              "      <td>2.000000</td>\n",
              "      <td>0.000000</td>\n",
              "      <td>1.728750</td>\n",
              "    </tr>\n",
              "    <tr>\n",
              "      <th>50%</th>\n",
              "      <td>4997.500000</td>\n",
              "      <td>56430.500000</td>\n",
              "      <td>54.490000</td>\n",
              "      <td>3.000000</td>\n",
              "      <td>0.200000</td>\n",
              "      <td>8.666500</td>\n",
              "    </tr>\n",
              "    <tr>\n",
              "      <th>75%</th>\n",
              "      <td>7495.750000</td>\n",
              "      <td>90008.000000</td>\n",
              "      <td>209.940000</td>\n",
              "      <td>5.000000</td>\n",
              "      <td>0.200000</td>\n",
              "      <td>29.364000</td>\n",
              "    </tr>\n",
              "    <tr>\n",
              "      <th>max</th>\n",
              "      <td>9994.000000</td>\n",
              "      <td>99301.000000</td>\n",
              "      <td>22638.480000</td>\n",
              "      <td>14.000000</td>\n",
              "      <td>0.800000</td>\n",
              "      <td>8399.976000</td>\n",
              "    </tr>\n",
              "  </tbody>\n",
              "</table>\n",
              "</div>\n",
              "      <button class=\"colab-df-convert\" onclick=\"convertToInteractive('df-ec0a0c5f-dc16-4920-89c4-26cec54ec47c')\"\n",
              "              title=\"Convert this dataframe to an interactive table.\"\n",
              "              style=\"display:none;\">\n",
              "\n",
              "  <svg xmlns=\"http://www.w3.org/2000/svg\" height=\"24px\"viewBox=\"0 0 24 24\"\n",
              "       width=\"24px\">\n",
              "    <path d=\"M0 0h24v24H0V0z\" fill=\"none\"/>\n",
              "    <path d=\"M18.56 5.44l.94 2.06.94-2.06 2.06-.94-2.06-.94-.94-2.06-.94 2.06-2.06.94zm-11 1L8.5 8.5l.94-2.06 2.06-.94-2.06-.94L8.5 2.5l-.94 2.06-2.06.94zm10 10l.94 2.06.94-2.06 2.06-.94-2.06-.94-.94-2.06-.94 2.06-2.06.94z\"/><path d=\"M17.41 7.96l-1.37-1.37c-.4-.4-.92-.59-1.43-.59-.52 0-1.04.2-1.43.59L10.3 9.45l-7.72 7.72c-.78.78-.78 2.05 0 2.83L4 21.41c.39.39.9.59 1.41.59.51 0 1.02-.2 1.41-.59l7.78-7.78 2.81-2.81c.8-.78.8-2.07 0-2.86zM5.41 20L4 18.59l7.72-7.72 1.47 1.35L5.41 20z\"/>\n",
              "  </svg>\n",
              "      </button>\n",
              "\n",
              "\n",
              "\n",
              "    <div id=\"df-5da30b79-10a0-41c7-8c9b-f6debd92ad72\">\n",
              "      <button class=\"colab-df-quickchart\" onclick=\"quickchart('df-5da30b79-10a0-41c7-8c9b-f6debd92ad72')\"\n",
              "              title=\"Suggest charts.\"\n",
              "              style=\"display:none;\">\n",
              "\n",
              "<svg xmlns=\"http://www.w3.org/2000/svg\" height=\"24px\"viewBox=\"0 0 24 24\"\n",
              "     width=\"24px\">\n",
              "    <g>\n",
              "        <path d=\"M19 3H5c-1.1 0-2 .9-2 2v14c0 1.1.9 2 2 2h14c1.1 0 2-.9 2-2V5c0-1.1-.9-2-2-2zM9 17H7v-7h2v7zm4 0h-2V7h2v10zm4 0h-2v-4h2v4z\"/>\n",
              "    </g>\n",
              "</svg>\n",
              "      </button>\n",
              "    </div>\n",
              "\n",
              "<style>\n",
              "  .colab-df-quickchart {\n",
              "    background-color: #E8F0FE;\n",
              "    border: none;\n",
              "    border-radius: 50%;\n",
              "    cursor: pointer;\n",
              "    display: none;\n",
              "    fill: #1967D2;\n",
              "    height: 32px;\n",
              "    padding: 0 0 0 0;\n",
              "    width: 32px;\n",
              "  }\n",
              "\n",
              "  .colab-df-quickchart:hover {\n",
              "    background-color: #E2EBFA;\n",
              "    box-shadow: 0px 1px 2px rgba(60, 64, 67, 0.3), 0px 1px 3px 1px rgba(60, 64, 67, 0.15);\n",
              "    fill: #174EA6;\n",
              "  }\n",
              "\n",
              "  [theme=dark] .colab-df-quickchart {\n",
              "    background-color: #3B4455;\n",
              "    fill: #D2E3FC;\n",
              "  }\n",
              "\n",
              "  [theme=dark] .colab-df-quickchart:hover {\n",
              "    background-color: #434B5C;\n",
              "    box-shadow: 0px 1px 3px 1px rgba(0, 0, 0, 0.15);\n",
              "    filter: drop-shadow(0px 1px 2px rgba(0, 0, 0, 0.3));\n",
              "    fill: #FFFFFF;\n",
              "  }\n",
              "</style>\n",
              "\n",
              "    <script>\n",
              "      async function quickchart(key) {\n",
              "        const containerElement = document.querySelector('#' + key);\n",
              "        const charts = await google.colab.kernel.invokeFunction(\n",
              "            'suggestCharts', [key], {});\n",
              "      }\n",
              "    </script>\n",
              "\n",
              "      <script>\n",
              "\n",
              "function displayQuickchartButton(domScope) {\n",
              "  let quickchartButtonEl =\n",
              "    domScope.querySelector('#df-5da30b79-10a0-41c7-8c9b-f6debd92ad72 button.colab-df-quickchart');\n",
              "  quickchartButtonEl.style.display =\n",
              "    google.colab.kernel.accessAllowed ? 'block' : 'none';\n",
              "}\n",
              "\n",
              "        displayQuickchartButton(document);\n",
              "      </script>\n",
              "      <style>\n",
              "    .colab-df-container {\n",
              "      display:flex;\n",
              "      flex-wrap:wrap;\n",
              "      gap: 12px;\n",
              "    }\n",
              "\n",
              "    .colab-df-convert {\n",
              "      background-color: #E8F0FE;\n",
              "      border: none;\n",
              "      border-radius: 50%;\n",
              "      cursor: pointer;\n",
              "      display: none;\n",
              "      fill: #1967D2;\n",
              "      height: 32px;\n",
              "      padding: 0 0 0 0;\n",
              "      width: 32px;\n",
              "    }\n",
              "\n",
              "    .colab-df-convert:hover {\n",
              "      background-color: #E2EBFA;\n",
              "      box-shadow: 0px 1px 2px rgba(60, 64, 67, 0.3), 0px 1px 3px 1px rgba(60, 64, 67, 0.15);\n",
              "      fill: #174EA6;\n",
              "    }\n",
              "\n",
              "    [theme=dark] .colab-df-convert {\n",
              "      background-color: #3B4455;\n",
              "      fill: #D2E3FC;\n",
              "    }\n",
              "\n",
              "    [theme=dark] .colab-df-convert:hover {\n",
              "      background-color: #434B5C;\n",
              "      box-shadow: 0px 1px 3px 1px rgba(0, 0, 0, 0.15);\n",
              "      filter: drop-shadow(0px 1px 2px rgba(0, 0, 0, 0.3));\n",
              "      fill: #FFFFFF;\n",
              "    }\n",
              "  </style>\n",
              "\n",
              "      <script>\n",
              "        const buttonEl =\n",
              "          document.querySelector('#df-ec0a0c5f-dc16-4920-89c4-26cec54ec47c button.colab-df-convert');\n",
              "        buttonEl.style.display =\n",
              "          google.colab.kernel.accessAllowed ? 'block' : 'none';\n",
              "\n",
              "        async function convertToInteractive(key) {\n",
              "          const element = document.querySelector('#df-ec0a0c5f-dc16-4920-89c4-26cec54ec47c');\n",
              "          const dataTable =\n",
              "            await google.colab.kernel.invokeFunction('convertToInteractive',\n",
              "                                                     [key], {});\n",
              "          if (!dataTable) return;\n",
              "\n",
              "          const docLinkHtml = 'Like what you see? Visit the ' +\n",
              "            '<a target=\"_blank\" href=https://colab.research.google.com/notebooks/data_table.ipynb>data table notebook</a>'\n",
              "            + ' to learn more about interactive tables.';\n",
              "          element.innerHTML = '';\n",
              "          dataTable['output_type'] = 'display_data';\n",
              "          await google.colab.output.renderOutput(dataTable, element);\n",
              "          const docLink = document.createElement('div');\n",
              "          docLink.innerHTML = docLinkHtml;\n",
              "          element.appendChild(docLink);\n",
              "        }\n",
              "      </script>\n",
              "    </div>\n",
              "  </div>\n"
            ]
          },
          "metadata": {},
          "execution_count": 15
        }
      ]
    },
    {
      "cell_type": "code",
      "source": [
        "df.isnull().sum()  # it means that there is no null value in the dataset"
      ],
      "metadata": {
        "colab": {
          "base_uri": "https://localhost:8080/"
        },
        "id": "GDjPlUMZRqH1",
        "outputId": "347d5b4f-6384-4b48-ac1d-38707b301c1f"
      },
      "execution_count": null,
      "outputs": [
        {
          "output_type": "execute_result",
          "data": {
            "text/plain": [
              "Row ID           0\n",
              "Order ID         0\n",
              "Order Date       0\n",
              "Ship Date        0\n",
              "Ship Mode        0\n",
              "Customer ID      0\n",
              "Customer Name    0\n",
              "Segment          0\n",
              "Country          0\n",
              "City             0\n",
              "State            0\n",
              "Postal Code      0\n",
              "Region           0\n",
              "Product ID       0\n",
              "Category         0\n",
              "Sub-Category     0\n",
              "Product Name     0\n",
              "Sales            0\n",
              "Quantity         0\n",
              "Discount         0\n",
              "Profit           0\n",
              "dtype: int64"
            ]
          },
          "metadata": {},
          "execution_count": 17
        }
      ]
    },
    {
      "cell_type": "code",
      "source": [
        "total_sales = df['Sales'].sum()\n",
        "print('Total Sales:', total_sales)"
      ],
      "metadata": {
        "colab": {
          "base_uri": "https://localhost:8080/"
        },
        "id": "SIVmNeWjRwPi",
        "outputId": "5a972804-ebc3-4ee1-fd72-b9e9af6befe6"
      },
      "execution_count": null,
      "outputs": [
        {
          "output_type": "stream",
          "name": "stdout",
          "text": [
            "Total Sales: 2297200.8603000003\n"
          ]
        }
      ]
    },
    {
      "cell_type": "code",
      "source": [
        "avg_sales_by_category = df.groupby('Category')['Sales'].mean()\n",
        "print('Average Sales by Category:')\n",
        "print(avg_sales_by_category)"
      ],
      "metadata": {
        "colab": {
          "base_uri": "https://localhost:8080/"
        },
        "id": "A8LKtPyhSdKD",
        "outputId": "00d0845e-c496-4591-b684-f196387a6201"
      },
      "execution_count": null,
      "outputs": [
        {
          "output_type": "stream",
          "name": "stdout",
          "text": [
            "Average Sales by Category:\n",
            "Category\n",
            "Furniture          349.834887\n",
            "Office Supplies    119.324101\n",
            "Technology         452.709276\n",
            "Name: Sales, dtype: float64\n"
          ]
        }
      ]
    },
    {
      "cell_type": "code",
      "source": [
        "profit_by_region_segment = df.groupby(['Region', 'Segment'])['Profit'].sum()\n",
        "print('Total Profit by Region and Segment:')\n",
        "print(profit_by_region_segment)\n"
      ],
      "metadata": {
        "colab": {
          "base_uri": "https://localhost:8080/"
        },
        "id": "t0qAyUdLSmlV",
        "outputId": "dfafea98-118e-4ad2-ea9c-42df86772529"
      },
      "execution_count": null,
      "outputs": [
        {
          "output_type": "stream",
          "name": "stdout",
          "text": [
            "Total Profit by Region and Segment:\n",
            "Region   Segment    \n",
            "Central  Consumer        8564.0481\n",
            "         Corporate      18703.9020\n",
            "         Home Office    12438.4124\n",
            "East     Consumer       41190.9843\n",
            "         Corporate      23622.5789\n",
            "         Home Office    26709.2168\n",
            "South    Consumer       26913.5728\n",
            "         Corporate      15215.2232\n",
            "         Home Office     4620.6343\n",
            "West     Consumer       57450.6040\n",
            "         Corporate      34437.4299\n",
            "         Home Office    16530.4150\n",
            "Name: Profit, dtype: float64\n"
          ]
        }
      ]
    },
    {
      "cell_type": "markdown",
      "source": [
        "Bar Chart Total Sales by Category"
      ],
      "metadata": {
        "id": "fUDSgeAATO6j"
      }
    },
    {
      "cell_type": "code",
      "source": [
        "df.groupby('Category')['Sales'].sum().plot(kind='bar')\n",
        "plt.title('Total Sales by Category')\n",
        "plt.xlabel('Category')\n",
        "plt.ylabel('Total Sales')\n",
        "plt.show()"
      ],
      "metadata": {
        "colab": {
          "base_uri": "https://localhost:8080/",
          "height": 562
        },
        "id": "BTGJFCMISzmr",
        "outputId": "f2f0e041-1b44-46b2-ab82-75bc896ed765"
      },
      "execution_count": null,
      "outputs": [
        {
          "output_type": "display_data",
          "data": {
            "text/plain": [
              "<Figure size 640x480 with 1 Axes>"
            ],
            "image/png": "[encoded data removed]"
          },
          "metadata": {}
        }
      ]
    },
    {
      "cell_type": "markdown",
      "source": [
        "Line Chart Sales Trend over Time"
      ],
      "metadata": {
        "id": "d_dxZdsPTROe"
      }
    },
    {
      "cell_type": "code",
      "source": [
        "df['Order Date'] = pd.to_datetime(df['Order Date'])\n",
        "df.groupby(df['Order Date'].dt.year)['Sales'].sum().plot(kind='line')\n",
        "plt.title('Sales Trend over Time')\n",
        "plt.xlabel('Year')\n",
        "plt.ylabel('Total Sales')\n",
        "plt.show()"
      ],
      "metadata": {
        "colab": {
          "base_uri": "https://localhost:8080/",
          "height": 472
        },
        "id": "O4h6NxLFTSYz",
        "outputId": "001ea692-2852-4d89-fdf7-4e7b0fb51d47"
      },
      "execution_count": null,
      "outputs": [
        {
          "output_type": "display_data",
          "data": {
            "text/plain": [
              "<Figure size 640x480 with 1 Axes>"
            ],
            "image/png": "[encoded data removed]"
          },
          "metadata": {}
        }
      ]
    },
    {
      "cell_type": "markdown",
      "source": [
        "Scatter Plot: Profit vs. Sales"
      ],
      "metadata": {
        "id": "WddqkIFRTVwU"
      }
    },
    {
      "cell_type": "code",
      "source": [
        "sns.scatterplot(data=df, x='Sales', y='Profit')\n",
        "plt.title('Profit vs. Sales')\n",
        "plt.xlabel('Sales')\n",
        "plt.ylabel('Profit')\n",
        "plt.show()"
      ],
      "metadata": {
        "colab": {
          "base_uri": "https://localhost:8080/",
          "height": 472
        },
        "id": "TYwE-l_sTwV9",
        "outputId": "239e79dc-c5f1-4550-eda9-f0715c978438"
      },
      "execution_count": null,
      "outputs": [
        {
          "output_type": "display_data",
          "data": {
            "text/plain": [
              "<Figure size 640x480 with 1 Axes>"
            ],
            "image/png": "[encoded data removed]"
          },
          "metadata": {}
        }
      ]
    },
    {
      "cell_type": "markdown",
      "source": [
        "Pie Chart: Proportion of Sales by Region"
      ],
      "metadata": {
        "id": "Sa-c3D5FTzpx"
      }
    },
    {
      "cell_type": "code",
      "source": [
        "df.groupby('Region')['Sales'].sum().plot(kind='pie', autopct='%1.1f%%')\n",
        "plt.title('Proportion of Sales by Region')\n",
        "plt.ylabel('')\n",
        "plt.show()"
      ],
      "metadata": {
        "colab": {
          "base_uri": "https://localhost:8080/",
          "height": 428
        },
        "id": "AQxFofJJT2Am",
        "outputId": "0e75618d-4bcf-4234-93db-e3f74a27bd59"
      },
      "execution_count": null,
      "outputs": [
        {
          "output_type": "display_data",
          "data": {
            "text/plain": [
              "<Figure size 640x480 with 1 Axes>"
            ],
            "image/png": "[encoded data removed]"
          },
          "metadata": {}
        }
      ]
    },
    {
      "cell_type": "markdown",
      "source": [
        "Histogram: Distribution of Profit"
      ],
      "metadata": {
        "id": "tmIZRl0-T4VA"
      }
    },
    {
      "cell_type": "code",
      "source": [
        "sns.histplot(data=df, x='Profit', kde=True)\n",
        "plt.title('Distribution of Profit')\n",
        "plt.xlabel('Profit')\n",
        "plt.ylabel('Frequency')\n",
        "plt.show()"
      ],
      "metadata": {
        "colab": {
          "base_uri": "https://localhost:8080/",
          "height": 472
        },
        "id": "VHiItjTUT8Tr",
        "outputId": "0134b75d-b432-4816-993c-f500194b30b7"
      },
      "execution_count": null,
      "outputs": [
        {
          "output_type": "display_data",
          "data": {
            "text/plain": [
              "<Figure size 640x480 with 1 Axes>"
            ],
            "image/png": "[encoded data removed]"
          },
          "metadata": {}
        }
      ]
    },
    {
      "cell_type": "markdown",
      "source": [
        "Box Plot: Profit by Category"
      ],
      "metadata": {
        "id": "om6wTLHPT_IH"
      }
    },
    {
      "cell_type": "code",
      "source": [
        "sns.boxplot(data=df, x='Category', y='Profit')\n",
        "plt.title('Profit by Category')\n",
        "plt.xlabel('Category')\n",
        "plt.ylabel('Profit')\n",
        "plt.show()"
      ],
      "metadata": {
        "colab": {
          "base_uri": "https://localhost:8080/",
          "height": 472
        },
        "id": "gVPilw-IUC_O",
        "outputId": "6b0ddedd-a793-4ffe-fcad-c73625266894"
      },
      "execution_count": null,
      "outputs": [
        {
          "output_type": "display_data",
          "data": {
            "text/plain": [
              "<Figure size 640x480 with 1 Axes>"
            ],
            "image/png": "[encoded data removed]"
          },
          "metadata": {}
        }
      ]
    }
  ]
}